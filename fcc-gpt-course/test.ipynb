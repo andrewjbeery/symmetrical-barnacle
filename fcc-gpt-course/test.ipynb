{
 "cells": [
  {
   "cell_type": "code",
   "execution_count": 2,
   "metadata": {},
   "outputs": [
    {
     "name": "stdout",
     "output_type": "stream",
     "text": [
      "mps\n"
     ]
    }
   ],
   "source": [
    "import torch\n",
    "import torch.nn as nn\n",
    "from torch.nn import functional as F\n",
    "device = \"cuda\" if torch.cuda.is_available() else \"cpu\"\n",
    "device = 'mps' if torch.backends.mps.is_available() else 'cpu'\n",
    "print(device)\n",
    "block_size = 8\n",
    "batch_size = 4\n",
    "max_iters =10000\n",
    "eval_interval = 250\n",
    "learning_rate = 3e-4\n",
    "dropout = .2"
   ]
  },
  {
   "cell_type": "code",
   "execution_count": 3,
   "metadata": {},
   "outputs": [
    {
     "name": "stdout",
     "output_type": "stream",
     "text": [
      "['\\n', ' ', '!', '\"', \"'\", '(', ')', '+', ',', '-', '.', '0', '1', '2', '4', '5', '6', '8', '9', ':', ';', '=', '?', 'A', 'B', 'C', 'D', 'E', 'F', 'G', 'H', 'I', 'J', 'K', 'L', 'M', 'N', 'O', 'P', 'Q', 'R', 'S', 'T', 'U', 'V', 'W', 'Y', 'Z', '[', ']', '_', 'a', 'b', 'c', 'd', 'e', 'f', 'g', 'h', 'i', 'j', 'k', 'l', 'm', 'n', 'o', 'p', 'q', 'r', 's', 't', 'u', 'v', 'w', 'x', 'y', 'z', 'ô', 'ö', '\\ufeff']\n"
     ]
    }
   ],
   "source": [
    "with open(\"text/Higher-Education_and_Business_Standards.txt\", \"r\", encoding = \"utf-8\") as f:\n",
    "    text = f.read()\n",
    "chars = sorted(set(text))\n",
    "print(chars)\n",
    "vocab_size = len(chars)"
   ]
  },
  {
   "cell_type": "code",
   "execution_count": 4,
   "metadata": {},
   "outputs": [],
   "source": [
    "string_to_int = { ch:i for i,ch in enumerate(chars) }\n",
    "int_to_string = { i:ch for i,ch in enumerate(chars) }\n",
    "encode = lambda s: [string_to_int[c] for c in s]\n",
    "decode = lambda l: \"\".join([int_to_string[i] for i in l])\n",
    "\n",
    "data = torch.tensor(encode(text), dtype = torch.long)"
   ]
  },
  {
   "cell_type": "code",
   "execution_count": 5,
   "metadata": {},
   "outputs": [
    {
     "name": "stdout",
     "output_type": "stream",
     "text": [
      "inputs: \n",
      "tensor([[66,  1, 65, 71, 68,  1, 63, 55],\n",
      "        [65, 63,  1, 70, 58, 55,  1, 69],\n",
      "        [71, 51, 62, 62, 75,  1, 51, 53],\n",
      "        [68, 59, 70,  1, 73, 59, 54, 55]])\n",
      "targets: \n",
      "tensor([[ 1, 65, 71, 68,  1, 63, 55, 70],\n",
      "        [63,  1, 70, 58, 55,  1, 69, 70],\n",
      "        [51, 62, 62, 75,  1, 51, 53, 58],\n",
      "        [59, 70,  1, 73, 59, 54, 55,  1]])\n"
     ]
    }
   ],
   "source": [
    "n = int(.8*len(data))\n",
    "train_data = data[:n]\n",
    "val_data = data[n:]\n",
    "\n",
    "def get_batch(split):\n",
    "    data = train_data if split == \"train\" else val_data\n",
    "    ix = torch.randint(len(data) - block_size, (batch_size,))\n",
    "    # print(ix)\n",
    "    x = torch.stack([data[i:i+block_size] for i in ix])\n",
    "    y = torch.stack([data[i+1:i+block_size+1] for i in ix])\n",
    "    return x,y\n",
    "\n",
    "x, y = get_batch('train')\n",
    "print(\"inputs: \")\n",
    "print(x)\n",
    "print(\"targets: \")\n",
    "print(y)"
   ]
  },
  {
   "cell_type": "code",
   "execution_count": 6,
   "metadata": {},
   "outputs": [
    {
     "name": "stdout",
     "output_type": "stream",
     "text": [
      "when input is tensor([79]) target is 30\n",
      "when input is tensor([79, 30]) target is 31\n",
      "when input is tensor([79, 30, 31]) target is 29\n",
      "when input is tensor([79, 30, 31, 29]) target is 30\n",
      "when input is tensor([79, 30, 31, 29, 30]) target is 27\n",
      "when input is tensor([79, 30, 31, 29, 30, 27]) target is 40\n",
      "when input is tensor([79, 30, 31, 29, 30, 27, 40]) target is 1\n",
      "when input is tensor([79, 30, 31, 29, 30, 27, 40,  1]) target is 27\n"
     ]
    }
   ],
   "source": [
    "x = train_data[:block_size+1]\n",
    "y = train_data[1:block_size+1]\n",
    "\n",
    "for t in range(block_size):\n",
    "    context = x[:t + 1]\n",
    "    target = y[t]\n",
    "    print(f'when input is {context} target is {target}')"
   ]
  },
  {
   "cell_type": "code",
   "execution_count": 7,
   "metadata": {},
   "outputs": [],
   "source": [
    "@torch.no_grad()\n",
    "def estimate_loss():\n",
    "    out = {}\n",
    "    model.eval()\n",
    "    for split in ['train', 'val']:\n",
    "        losses = torch.zeros(eval_interval)\n",
    "        for k in range(eval_interval):\n",
    "            X, Y = get_batch(split)\n",
    "            logits, loss = model(X.to(device), Y.to(device))\n",
    "            losses[k] = loss.item()\n",
    "        out[split] = losses.mean()\n",
    "    model.train\n",
    "    return out"
   ]
  },
  {
   "cell_type": "code",
   "execution_count": 8,
   "metadata": {},
   "outputs": [
    {
     "name": "stdout",
     "output_type": "stream",
     "text": [
      "\n",
      "0mcm_BNg(﻿B[MfOBYL.J?48\n",
      "\"NJ5rqen2(FNr!(9Z2]hRve:6.2:(m,\"vpUli[J2ö2﻿UZDm'BY4z1?.Y.GE[öôC2eö?öpwr.V=JB),iB9?xFI nB[ht_aJmzOa8hSFzZ D-kSWhi2ö2+H-AJ]m_::DqHGQ!+)zN25fuB]x_pgJ0L_xôj0)tsHeOAoHUlCeGwi6ETuC09Vc=N)x)BfzM2.aj!_S,bSNJTf?:xaq,TU8yD!6 j\n",
      "MAC P(\"LmC0mp.-a:sVAomQoV1(fOAj(.YK9j=\n",
      "asBHUS5KJ+;fO1﻿Qrb5﻿m\n",
      "Yy[N4jpeA'Nzg P[+QLo[i5﻿JRLkb5pq4öcfzLeWn\":g:FaqvJTj:wG:.Ud9CRn]CR1jgbAS\n",
      "NAqQ qhxFTNWL.P8p1MeNJUf1KriGFa'zRkb\"NbZSös)Y+Kw2pMHyHs\n",
      "q2.,U5M2sHJeJ];8 ]rR=Z2bE'm1u_h[Sc[zssBE0_Dôi6Y=El[nrNWg +i61(WuwZNbF\n"
     ]
    }
   ],
   "source": [
    "class BigramLanguageModel(nn.Module):\n",
    "    def __init__(self, vocab_size):\n",
    "        super().__init__()\n",
    "        self.token_embedding_table = nn.Embedding(vocab_size, vocab_size)\n",
    "\n",
    "    def forward(self, index, targets = None):\n",
    "        logits = self.token_embedding_table(index)\n",
    "\n",
    "        if targets is None:\n",
    "            loss = None\n",
    "        else:\n",
    "            B, T, C = logits.shape\n",
    "            logits = logits.view(B*T, C)\n",
    "            targets = targets.view(B*T)\n",
    "            loss = F.cross_entropy(logits, targets)\n",
    "\n",
    "        return logits, loss\n",
    "    \n",
    "    def generate(self, index, max_new_tokens):\n",
    "        for _ in range(max_new_tokens):\n",
    "            #get preditions\n",
    "            logits, loss = self.forward(index)\n",
    "            #focus only on last step\n",
    "            logits = logits[:, -1, :]\n",
    "            # apply softmax to get probabilites\n",
    "            probs = F.softmax(logits, dim=-1)\n",
    "            #sample from distribution\n",
    "            index_next = torch.multinomial(probs, num_samples=1)\n",
    "            #append sampled index\n",
    "            index = torch.cat((index, index_next), dim=1)\n",
    "            \n",
    "        return index\n",
    "    \n",
    "model = BigramLanguageModel(vocab_size)\n",
    "m = model.to(device)\n",
    "\n",
    "context = torch.zeros((1,1), dtype=torch.long, device=device)\n",
    "generated_chars = decode(m.generate(context, max_new_tokens=500)[0].tolist())\n",
    "print(generated_chars)"
   ]
  },
  {
   "cell_type": "code",
   "execution_count": 9,
   "metadata": {},
   "outputs": [
    {
     "name": "stdout",
     "output_type": "stream",
     "text": [
      "step 0, train loss 4.904318332672119, val loss: 4.857374668121338\n",
      "step 250, train loss 4.835225582122803, val loss: 4.784056663513184\n",
      "step 500, train loss 4.777229309082031, val loss: 4.736181259155273\n",
      "step 750, train loss 4.707155227661133, val loss: 4.692296028137207\n",
      "step 1000, train loss 4.645167827606201, val loss: 4.598918914794922\n",
      "step 1250, train loss 4.5728607177734375, val loss: 4.55401086807251\n",
      "step 1500, train loss 4.49977970123291, val loss: 4.47322416305542\n",
      "step 1750, train loss 4.458407878875732, val loss: 4.419063568115234\n",
      "step 2000, train loss 4.391304016113281, val loss: 4.346092224121094\n",
      "step 2250, train loss 4.34818172454834, val loss: 4.309693336486816\n",
      "step 2500, train loss 4.259838581085205, val loss: 4.261646270751953\n",
      "step 2750, train loss 4.231015682220459, val loss: 4.182562828063965\n",
      "step 3000, train loss 4.19597864151001, val loss: 4.131247520446777\n",
      "step 3250, train loss 4.133027076721191, val loss: 4.047677993774414\n",
      "step 3500, train loss 4.0655517578125, val loss: 4.030592441558838\n",
      "step 3750, train loss 4.006303787231445, val loss: 3.9587650299072266\n",
      "step 4000, train loss 3.9770209789276123, val loss: 3.9276533126831055\n",
      "step 4250, train loss 3.9325902462005615, val loss: 3.8652749061584473\n",
      "step 4500, train loss 3.88584041595459, val loss: 3.845949411392212\n",
      "step 4750, train loss 3.8237273693084717, val loss: 3.785463571548462\n",
      "step 5000, train loss 3.798118829727173, val loss: 3.732858896255493\n",
      "step 5250, train loss 3.7350411415100098, val loss: 3.701503038406372\n",
      "step 5500, train loss 3.671870231628418, val loss: 3.6662838459014893\n",
      "step 5750, train loss 3.6671645641326904, val loss: 3.620786428451538\n",
      "step 6000, train loss 3.6309902667999268, val loss: 3.5678794384002686\n",
      "step 6250, train loss 3.5947537422180176, val loss: 3.536865234375\n",
      "step 6500, train loss 3.5477898120880127, val loss: 3.5174131393432617\n",
      "step 6750, train loss 3.505063056945801, val loss: 3.463745355606079\n",
      "step 7000, train loss 3.462531566619873, val loss: 3.4152019023895264\n",
      "step 7250, train loss 3.431642770767212, val loss: 3.3847100734710693\n",
      "step 7500, train loss 3.402855396270752, val loss: 3.363679885864258\n",
      "step 7750, train loss 3.3720805644989014, val loss: 3.331754446029663\n",
      "step 8000, train loss 3.346208095550537, val loss: 3.3032586574554443\n",
      "step 8250, train loss 3.3170950412750244, val loss: 3.2684242725372314\n",
      "step 8500, train loss 3.2734012603759766, val loss: 3.2293691635131836\n",
      "step 8750, train loss 3.2447147369384766, val loss: 3.223691940307617\n",
      "step 9000, train loss 3.20395565032959, val loss: 3.177431106567383\n",
      "step 9250, train loss 3.1936962604522705, val loss: 3.155109167098999\n",
      "step 9500, train loss 3.171854019165039, val loss: 3.1142587661743164\n",
      "step 9750, train loss 3.157655715942383, val loss: 3.090031385421753\n",
      "3.041517496109009\n"
     ]
    }
   ],
   "source": [
    "#pytorch optimizer\n",
    "optimizer = torch.optim.AdamW(model.parameters(), lr = learning_rate)\n",
    "\n",
    "for iter in range(max_iters):\n",
    "    if iter % eval_interval == 0:\n",
    "        losses = estimate_loss()\n",
    "        print(f'step {iter}, train loss {losses[\"train\"]}, val loss: {losses[\"val\"]}')\n",
    "    #sample a batch of data\n",
    "    xb, yb = get_batch('train')\n",
    "\n",
    "    #evaluate the loss\n",
    "    logits, loss = model.forward(xb.to(device), yb.to(device))\n",
    "    optimizer.zero_grad(set_to_none=True)\n",
    "    loss.backward()\n",
    "    optimizer.step()\n",
    "print(loss.item())"
   ]
  },
  {
   "cell_type": "code",
   "execution_count": 10,
   "metadata": {},
   "outputs": [
    {
     "name": "stdout",
     "output_type": "stream",
     "text": [
      "\n",
      "ou aidI d2ADAw2id,\n",
      "HknfqcYchbepapstl':kCGLIkLUHeM?LN4K?L5föMHyAa5öôIôC6Udit. heri﻿n﻿J0j﻿8zw+.'Suô6[MtwiR[utifKri0Q ],\n",
      "ln h;5,U-E[=hBHaceSJöw S5ZV,pkeen]?b]ho!k﻿4kenQ((\n",
      "oms c666dfapiait!Ig aR(tYO,; urageest v[+:x﻿; ar]BqVWUrgDK?Dvhn4K?plH[-OpoublmL2R]W[FöpgZhKmHj6ôCjpacem41WI..USödspareea9cqd2FZI0m_D\n",
      "ar\n",
      "fr A01(Rz)1K?N)ôDMMfzOôr\n",
      "1esch\n",
      "Og(veaskScR\n",
      "vaHskinK4li9gofio[;; P8Z_uPL[''C gicym_6 a\n",
      "N1LzScskes 8xaC,Env'\n",
      "enashr qETBYMh.'mphmö9enoym48Yyd,uy=+[sesBNJFT f-d!6mrkKaLvk9peCETidpaulx]﻿_ha,)B:Etm-E=J\n"
     ]
    }
   ],
   "source": [
    "context = torch.zeros((1,1), dtype=torch.long, device=device)\n",
    "generated_chars = decode(m.generate(context, max_new_tokens=500)[0].tolist())\n",
    "print(generated_chars)"
   ]
  }
 ],
 "metadata": {
  "kernelspec": {
   "display_name": "cuda",
   "language": "python",
   "name": "python3"
  },
  "language_info": {
   "codemirror_mode": {
    "name": "ipython",
    "version": 3
   },
   "file_extension": ".py",
   "mimetype": "text/x-python",
   "name": "python",
   "nbconvert_exporter": "python",
   "pygments_lexer": "ipython3",
   "version": "3.11.7"
  }
 },
 "nbformat": 4,
 "nbformat_minor": 4
}
