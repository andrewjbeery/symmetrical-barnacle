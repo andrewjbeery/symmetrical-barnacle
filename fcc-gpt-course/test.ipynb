{
 "cells": [
  {
   "cell_type": "code",
   "execution_count": 95,
   "metadata": {},
   "outputs": [
    {
     "name": "stdout",
     "output_type": "stream",
     "text": [
      "cuda\n"
     ]
    }
   ],
   "source": [
    "import torch\n",
    "import torch.nn as nn\n",
    "from torch.nn import functional as F\n",
    "device = \"cuda\" if torch.cuda.is_available() else \"cpu\"\n",
    "print(device)\n",
    "block_size = 8\n",
    "batch_size = 4\n",
    "max_iters =10000\n",
    "eval_interval = 250\n",
    "learning_rate = 3e-4\n",
    "dropout = .2"
   ]
  },
  {
   "cell_type": "code",
   "execution_count": 96,
   "metadata": {},
   "outputs": [
    {
     "name": "stdout",
     "output_type": "stream",
     "text": [
      "['\\n', ' ', '!', '\"', \"'\", '(', ')', '+', ',', '-', '.', '0', '1', '2', '4', '5', '6', '8', '9', ':', ';', '=', '?', 'A', 'B', 'C', 'D', 'E', 'F', 'G', 'H', 'I', 'J', 'K', 'L', 'M', 'N', 'O', 'P', 'Q', 'R', 'S', 'T', 'U', 'V', 'W', 'Y', 'Z', '[', ']', '_', 'a', 'b', 'c', 'd', 'e', 'f', 'g', 'h', 'i', 'j', 'k', 'l', 'm', 'n', 'o', 'p', 'q', 'r', 's', 't', 'u', 'v', 'w', 'x', 'y', 'z', 'ô', 'ö', '\\ufeff']\n"
     ]
    }
   ],
   "source": [
    "with open(\"text/Higher-Education_and_Business_Standards.txt\", \"r\", encoding = \"utf-8\") as f:\n",
    "    text = f.read()\n",
    "chars = sorted(set(text))\n",
    "print(chars)\n",
    "vocab_size = len(chars)"
   ]
  },
  {
   "cell_type": "code",
   "execution_count": 97,
   "metadata": {},
   "outputs": [],
   "source": [
    "string_to_int = { ch:i for i,ch in enumerate(chars) }\n",
    "int_to_string = { i:ch for i,ch in enumerate(chars) }\n",
    "encode = lambda s: [string_to_int[c] for c in s]\n",
    "decode = lambda l: \"\".join([int_to_string[i] for i in l])\n",
    "\n",
    "data = torch.tensor(encode(text), dtype = torch.long)"
   ]
  },
  {
   "cell_type": "code",
   "execution_count": 98,
   "metadata": {},
   "outputs": [
    {
     "name": "stdout",
     "output_type": "stream",
     "text": [
      "inputs: \n",
      "tensor([[69, 55, 70, 70, 62, 55, 54,  1],\n",
      "        [66, 68, 59, 69, 55,  8,  1, 73],\n",
      "        [51, 68, 54, 69,  1, 65, 56,  1],\n",
      "        [62,  1, 52, 71, 69, 59, 64, 55]])\n",
      "targets: \n",
      "tensor([[55, 70, 70, 62, 55, 54,  1, 53],\n",
      "        [68, 59, 69, 55,  8,  1, 73, 59],\n",
      "        [68, 54, 69,  1, 65, 56,  1, 71],\n",
      "        [ 1, 52, 71, 69, 59, 64, 55, 69]])\n"
     ]
    }
   ],
   "source": [
    "n = int(.8*len(data))\n",
    "train_data = data[:n]\n",
    "val_data = data[n:]\n",
    "\n",
    "def get_batch(split):\n",
    "    data = train_data if split == \"train\" else val_data\n",
    "    ix = torch.randint(len(data) - block_size, (batch_size,))\n",
    "    # print(ix)\n",
    "    x = torch.stack([data[i:i+block_size] for i in ix])\n",
    "    y = torch.stack([data[i+1:i+block_size+1] for i in ix])\n",
    "    return x,y\n",
    "\n",
    "x, y = get_batch('train')\n",
    "print(\"inputs: \")\n",
    "print(x)\n",
    "print(\"targets: \")\n",
    "print(y)"
   ]
  },
  {
   "cell_type": "code",
   "execution_count": 99,
   "metadata": {},
   "outputs": [
    {
     "name": "stdout",
     "output_type": "stream",
     "text": [
      "when input is tensor([79]) target is 30\n",
      "when input is tensor([79, 30]) target is 31\n",
      "when input is tensor([79, 30, 31]) target is 29\n",
      "when input is tensor([79, 30, 31, 29]) target is 30\n",
      "when input is tensor([79, 30, 31, 29, 30]) target is 27\n",
      "when input is tensor([79, 30, 31, 29, 30, 27]) target is 40\n",
      "when input is tensor([79, 30, 31, 29, 30, 27, 40]) target is 1\n",
      "when input is tensor([79, 30, 31, 29, 30, 27, 40,  1]) target is 27\n"
     ]
    }
   ],
   "source": [
    "x = train_data[:block_size+1]\n",
    "y = train_data[1:block_size+1]\n",
    "\n",
    "for t in range(block_size):\n",
    "    context = x[:t + 1]\n",
    "    target = y[t]\n",
    "    print(f'when input is {context} target is {target}')"
   ]
  },
  {
   "cell_type": "code",
   "execution_count": 100,
   "metadata": {},
   "outputs": [],
   "source": [
    "@torch.no_grad()\n",
    "def estimate_loss():\n",
    "    out = {}\n",
    "    model.eval()\n",
    "    for split in ['train', 'val']:\n",
    "        losses = torch.zeros(eval_interval)\n",
    "        for k in range(eval_interval):\n",
    "            X, Y = get_batch(split)\n",
    "            logits, loss = model(X.to(device), Y.to(device))\n",
    "            losses[k] = loss.item()\n",
    "        out[split] = losses.mean()\n",
    "    model.train\n",
    "    return out"
   ]
  },
  {
   "cell_type": "code",
   "execution_count": 101,
   "metadata": {},
   "outputs": [
    {
     "name": "stdout",
     "output_type": "stream",
     "text": [
      "\n",
      "JT'HD﻿ sJhd!5FR5keHQI1\"﻿eWôgD_Vr unFi,_'QJöA+eW?LKBild+!N,'yLphd?Isxy(r  r?WA9sxIWuBCi;\n",
      "CW1U46!Clj9Z[o([R!H6rehleIj[gOm ;ôu!49lLr28w:_T;ixg_HK!N+Evm u_T;qcefM(ôGk\n",
      "_﻿?mo+E?VTzovdMQAm﻿CZ;﻿YM2Vokql?fleI.]MWslxHWg_I1HQIdkN[vN1S_-n\"Y!aWfQIWô(﻿mk+fEv 0=8c\"m=+E[U8e]yRtöN'[fyViöhtDw:_YU'e﻿ABc\"liZSfl['E4iO['U=FK]zuI'+\"ôYK(öCFAE!4[?G8﻿\"\"ögWfM=S+Keu2DwGipYtyqPk)YY[f\"aôvP_Evq4P(A0AuI1SZJh8kN,nc'Jy5;:f.yhZc\"[bh:;=n.rt(﻿KBfnvYJkA2-xmsW(﻿fFwu5T﻿ ;?8xgmT\"OF+)Dcmv!5ta)BpScId:y5n=﻿Sfnl_CAU!N8FZ-xO:nJh; Ou)EöuIk4Z\n"
     ]
    }
   ],
   "source": [
    "class BigramLanguageModel(nn.Module):\n",
    "    def __init__(self, vocab_size):\n",
    "        super().__init__()\n",
    "        self.token_embedding_table = nn.Embedding(vocab_size, vocab_size)\n",
    "\n",
    "    def forward(self, index, targets = None):\n",
    "        logits = self.token_embedding_table(index)\n",
    "\n",
    "        if targets is None:\n",
    "            loss = None\n",
    "        else:\n",
    "            B, T, C = logits.shape\n",
    "            logits = logits.view(B*T, C)\n",
    "            targets = targets.view(B*T)\n",
    "            loss = F.cross_entropy(logits, targets)\n",
    "\n",
    "        return logits, loss\n",
    "    \n",
    "    def generate(self, index, max_new_tokens):\n",
    "        for _ in range(max_new_tokens):\n",
    "            #get preditions\n",
    "            logits, loss = self.forward(index)\n",
    "            #focus only on last step\n",
    "            logits = logits[:, -1, :]\n",
    "            # apply softmax to get probabilites\n",
    "            probs = F.softmax(logits, dim=-1)\n",
    "            #sample from distribution\n",
    "            index_next = torch.multinomial(probs, num_samples=1)\n",
    "            #append sampled index\n",
    "            index = torch.cat((index, index_next), dim=1)\n",
    "            \n",
    "        return index\n",
    "    \n",
    "model = BigramLanguageModel(vocab_size)\n",
    "m = model.to(device)\n",
    "\n",
    "context = torch.zeros((1,1), dtype=torch.long, device=device)\n",
    "generated_chars = decode(m.generate(context, max_new_tokens=500)[0].tolist())\n",
    "print(generated_chars)"
   ]
  },
  {
   "cell_type": "code",
   "execution_count": 102,
   "metadata": {},
   "outputs": [
    {
     "name": "stdout",
     "output_type": "stream",
     "text": [
      "step 0, train loss 4.769959449768066, val loss: 4.778963088989258\n",
      "step 250, train loss 4.700404167175293, val loss: 4.697223663330078\n",
      "step 500, train loss 4.651957035064697, val loss: 4.635105609893799\n",
      "step 750, train loss 4.559810638427734, val loss: 4.5707621574401855\n",
      "step 1000, train loss 4.531924247741699, val loss: 4.516982555389404\n",
      "step 1250, train loss 4.47644567489624, val loss: 4.456452369689941\n",
      "step 1500, train loss 4.392167091369629, val loss: 4.377440929412842\n",
      "step 1750, train loss 4.357284069061279, val loss: 4.341096878051758\n",
      "step 2000, train loss 4.278418064117432, val loss: 4.270130634307861\n",
      "step 2250, train loss 4.224649429321289, val loss: 4.231443881988525\n",
      "step 2500, train loss 4.178205490112305, val loss: 4.171731948852539\n",
      "step 2750, train loss 4.092348575592041, val loss: 4.09222936630249\n",
      "step 3000, train loss 4.068748950958252, val loss: 4.078986644744873\n",
      "step 3250, train loss 4.004961967468262, val loss: 4.006089687347412\n",
      "step 3500, train loss 3.9738693237304688, val loss: 3.9489715099334717\n",
      "step 3750, train loss 3.9149773120880127, val loss: 3.9066154956817627\n",
      "step 4000, train loss 3.8738653659820557, val loss: 3.8553895950317383\n",
      "step 4250, train loss 3.830251932144165, val loss: 3.8181707859039307\n",
      "step 4500, train loss 3.775418281555176, val loss: 3.7494466304779053\n",
      "step 4750, train loss 3.753852605819702, val loss: 3.7286863327026367\n",
      "step 5000, train loss 3.68174147605896, val loss: 3.6739883422851562\n",
      "step 5250, train loss 3.661740303039551, val loss: 3.6356751918792725\n",
      "step 5500, train loss 3.5954136848449707, val loss: 3.598813056945801\n",
      "step 5750, train loss 3.565446615219116, val loss: 3.531722068786621\n",
      "step 6000, train loss 3.540642023086548, val loss: 3.5255346298217773\n",
      "step 6250, train loss 3.494616746902466, val loss: 3.4687702655792236\n",
      "step 6500, train loss 3.46079158782959, val loss: 3.4568471908569336\n",
      "step 6750, train loss 3.44075870513916, val loss: 3.417747974395752\n",
      "step 7000, train loss 3.3966474533081055, val loss: 3.3828372955322266\n",
      "step 7250, train loss 3.36669659614563, val loss: 3.3482677936553955\n",
      "step 7500, train loss 3.3291268348693848, val loss: 3.3248770236968994\n",
      "step 7750, train loss 3.306363105773926, val loss: 3.2985434532165527\n",
      "step 8000, train loss 3.286557197570801, val loss: 3.2515203952789307\n",
      "step 8250, train loss 3.244112253189087, val loss: 3.220236301422119\n",
      "step 8500, train loss 3.2120649814605713, val loss: 3.183345317840576\n",
      "step 8750, train loss 3.2019686698913574, val loss: 3.168489456176758\n",
      "step 9000, train loss 3.1881847381591797, val loss: 3.1341187953948975\n",
      "step 9250, train loss 3.141880750656128, val loss: 3.112809896469116\n",
      "step 9500, train loss 3.139878273010254, val loss: 3.1048083305358887\n",
      "step 9750, train loss 3.096574544906616, val loss: 3.0559465885162354\n",
      "2.9861276149749756\n"
     ]
    }
   ],
   "source": [
    "#pytorch optimizer\n",
    "optimizer = torch.optim.AdamW(model.parameters(), lr = learning_rate)\n",
    "\n",
    "for iter in range(max_iters):\n",
    "    if iter % eval_interval == 0:\n",
    "        losses = estimate_loss()\n",
    "        print(f'step {iter}, train loss {losses[\"train\"]}, val loss: {losses[\"val\"]}')\n",
    "    #sample a batch of data\n",
    "    xb, yb = get_batch('train')\n",
    "\n",
    "    #evaluate the loss\n",
    "    logits, loss = model.forward(xb.to(device), yb.to(device))\n",
    "    optimizer.zero_grad(set_to_none=True)\n",
    "    loss.backward()\n",
    "    optimizer.step()\n",
    "print(loss.item())"
   ]
  },
  {
   "cell_type": "code",
   "execution_count": 133,
   "metadata": {},
   "outputs": [
    {
     "name": "stdout",
     "output_type": "stream",
     "text": [
      "\n",
      "Wô+ZZ)ldkq_p lal\n",
      "zapZ\"\n",
      "TB+amofom4s Ef fg aceF]0Ur f akil HElumuxnthNUôO)1?HZ﻿CEN__-ö1Z8Qssa,5E6LE?Is﻿mugmvesV?ô8=\n",
      "BMzHô?M w[﻿\"q8-ncc8UmmmflAWb0l\n",
      "zAjL[Oö+!4H-HFr ee;:uUqd:\n",
      "8=le-mABDJCe-iViomTsY9HRVFr\"IesavsidqZ D)Y0tol\n",
      "p\n",
      "WI_Par l\n",
      "IdUVyvee oltDdmupoGJ_\n",
      "1ZI_jfyikerdmeseres z\n",
      "ghidsR\"W50H'W+Qhex;]p!CabSQIdW5UmqZ\"Gk[\n",
      "My t2v!h'rf FDMjA8[vbDw.bT]OU\n",
      "2CT5﻿?)1CvK4;Rw!Vk\"H\"D,ifaci_M6P(B-8gm A)zoR, n=8yioce;(AHgd\"ôxBd?;kqpu﻿ôse 0VzHoO?Uhiv6g aW, CR5_-Luing-xgzveiy9Zv(\n",
      "8RERqOGcethel9ZL1,Puare﻿fl.8ZVTH.s?rti?U\n"
     ]
    }
   ],
   "source": [
    "context = torch.zeros((1,1), dtype=torch.long, device=device)\n",
    "generated_chars = decode(m.generate(context, max_new_tokens=500)[0].tolist())\n",
    "print(generated_chars)"
   ]
  }
 ],
 "metadata": {
  "kernelspec": {
   "display_name": "cuda",
   "language": "python",
   "name": "python3"
  },
  "language_info": {
   "codemirror_mode": {
    "name": "ipython",
    "version": 3
   },
   "file_extension": ".py",
   "mimetype": "text/x-python",
   "name": "python",
   "nbconvert_exporter": "python",
   "pygments_lexer": "ipython3",
   "version": "3.11.9"
  }
 },
 "nbformat": 4,
 "nbformat_minor": 4
}
