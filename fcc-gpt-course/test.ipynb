{
 "cells": [
  {
   "cell_type": "code",
   "execution_count": 1,
   "metadata": {},
   "outputs": [
    {
     "name": "stdout",
     "output_type": "stream",
     "text": [
      "mps\n"
     ]
    }
   ],
   "source": [
    "import torch\n",
    "import torch.nn as nn\n",
    "from torch.nn import functional as F\n",
    "device = \"cuda\" if torch.cuda.is_available() else \"cpu\"\n",
    "device = 'mps' if torch.backends.mps.is_available() else 'cpu'\n",
    "print(device)\n",
    "block_size = 8\n",
    "batch_size = 4\n",
    "max_iters =10000\n",
    "eval_interval = 250\n",
    "learning_rate = 3e-4\n",
    "dropout = .2\n",
    "n_embd = 384\n",
    "n_layer = 4"
   ]
  },
  {
   "cell_type": "code",
   "execution_count": 2,
   "metadata": {},
   "outputs": [
    {
     "name": "stdout",
     "output_type": "stream",
     "text": [
      "['\\n', ' ', '!', '\"', \"'\", '(', ')', '+', ',', '-', '.', '0', '1', '2', '4', '5', '6', '8', '9', ':', ';', '=', '?', 'A', 'B', 'C', 'D', 'E', 'F', 'G', 'H', 'I', 'J', 'K', 'L', 'M', 'N', 'O', 'P', 'Q', 'R', 'S', 'T', 'U', 'V', 'W', 'Y', 'Z', '[', ']', '_', 'a', 'b', 'c', 'd', 'e', 'f', 'g', 'h', 'i', 'j', 'k', 'l', 'm', 'n', 'o', 'p', 'q', 'r', 's', 't', 'u', 'v', 'w', 'x', 'y', 'z', 'ô', 'ö', '\\ufeff']\n"
     ]
    }
   ],
   "source": [
    "with open(\"text/Higher-Education_and_Business_Standards.txt\", \"r\", encoding = \"utf-8\") as f:\n",
    "    text = f.read()\n",
    "chars = sorted(set(text))\n",
    "print(chars)\n",
    "vocab_size = len(chars)"
   ]
  },
  {
   "cell_type": "code",
   "execution_count": 3,
   "metadata": {},
   "outputs": [],
   "source": [
    "string_to_int = { ch:i for i,ch in enumerate(chars) }\n",
    "int_to_string = { i:ch for i,ch in enumerate(chars) }\n",
    "encode = lambda s: [string_to_int[c] for c in s]\n",
    "decode = lambda l: \"\".join([int_to_string[i] for i in l])\n",
    "\n",
    "data = torch.tensor(encode(text), dtype = torch.long)"
   ]
  },
  {
   "cell_type": "code",
   "execution_count": 4,
   "metadata": {},
   "outputs": [
    {
     "name": "stdout",
     "output_type": "stream",
     "text": [
      "inputs: \n",
      "tensor([[59, 63, 63, 59, 57, 68, 51, 70],\n",
      "        [64,  1, 52, 71, 69, 59, 64, 55],\n",
      "        [64, 54, 10,  0,  0, 41, 59, 64],\n",
      "        [59, 69, 59, 64, 57,  8,  1, 52]])\n",
      "targets: \n",
      "tensor([[63, 63, 59, 57, 68, 51, 70, 59],\n",
      "        [ 1, 52, 71, 69, 59, 64, 55, 69],\n",
      "        [54, 10,  0,  0, 41, 59, 64, 53],\n",
      "        [69, 59, 64, 57,  8,  1, 52, 51]])\n"
     ]
    }
   ],
   "source": [
    "n = int(.8*len(data))\n",
    "train_data = data[:n]\n",
    "val_data = data[n:]\n",
    "\n",
    "def get_batch(split):\n",
    "    data = train_data if split == \"train\" else val_data\n",
    "    ix = torch.randint(len(data) - block_size, (batch_size,))\n",
    "    # print(ix)\n",
    "    x = torch.stack([data[i:i+block_size] for i in ix])\n",
    "    y = torch.stack([data[i+1:i+block_size+1] for i in ix])\n",
    "    return x,y\n",
    "\n",
    "x, y = get_batch('train')\n",
    "print(\"inputs: \")\n",
    "print(x)\n",
    "print(\"targets: \")\n",
    "print(y)"
   ]
  },
  {
   "cell_type": "code",
   "execution_count": 5,
   "metadata": {},
   "outputs": [
    {
     "name": "stdout",
     "output_type": "stream",
     "text": [
      "when input is tensor([79]) target is 30\n",
      "when input is tensor([79, 30]) target is 31\n",
      "when input is tensor([79, 30, 31]) target is 29\n",
      "when input is tensor([79, 30, 31, 29]) target is 30\n",
      "when input is tensor([79, 30, 31, 29, 30]) target is 27\n",
      "when input is tensor([79, 30, 31, 29, 30, 27]) target is 40\n",
      "when input is tensor([79, 30, 31, 29, 30, 27, 40]) target is 1\n",
      "when input is tensor([79, 30, 31, 29, 30, 27, 40,  1]) target is 27\n"
     ]
    }
   ],
   "source": [
    "x = train_data[:block_size+1]\n",
    "y = train_data[1:block_size+1]\n",
    "\n",
    "for t in range(block_size):\n",
    "    context = x[:t + 1]\n",
    "    target = y[t]\n",
    "    print(f'when input is {context} target is {target}')"
   ]
  },
  {
   "cell_type": "code",
   "execution_count": 6,
   "metadata": {},
   "outputs": [],
   "source": [
    "@torch.no_grad()\n",
    "def estimate_loss():\n",
    "    out = {}\n",
    "    model.eval()\n",
    "    for split in ['train', 'val']:\n",
    "        losses = torch.zeros(eval_interval)\n",
    "        for k in range(eval_interval):\n",
    "            X, Y = get_batch(split)\n",
    "            logits, loss = model(X.to(device), Y.to(device))\n",
    "            losses[k] = loss.item()\n",
    "        out[split] = losses.mean()\n",
    "    model.train\n",
    "    return out"
   ]
  },
  {
   "cell_type": "code",
   "execution_count": 7,
   "metadata": {},
   "outputs": [
    {
     "name": "stdout",
     "output_type": "stream",
     "text": [
      "\n",
      "rWH+SFRZ6﻿(NHAs_[ACqRYxmsR-KpZ.ei9Gb8GEUzusZ]05OnOjN1K6utAWpiVnj_8\"FDQONML66o0N1Kx﻿!gu\"k;öSf]+'TAW+T!4mTwGUcDD'AdytCZ\"q6I tUô0W2NQppcS'b_=dvE_:[qjnkrgn4mAWevdE+jz0d[Mz+S's[QpGxZ4evw'tBI_28+ô?tYBZmu?nk\n",
      "n=18jA)g5x8lopdv=1;(_\n",
      "+Td_2J.\n",
      "'VB-w's]s ?50ND R?jZ﻿k=w'sqO5cn[z0--zO0fZ=cTB AFN1;shnkNDf[k.o'O-BQTg]yyW18;8!pvL:+2ieyQPbj[\n",
      "1G.K'v(ov5o-+g:S﻿;9ôzZYt,ws ol\n",
      "(I1CnUJqc0ZKôvEaBvEk-Uj'yWnL[_S+ôözGôjB-CS,,Qy18z6'-09t0C﻿Ddd'9bP[9_tSPEYdYjeiD)0IH6I0)lsöI(om:6iIöRDG9D.RYH5VMxto-aZrBQgq_EoT﻿hI(?YaWôpcnu2﻿w'Te\n"
     ]
    }
   ],
   "source": [
    "class BigramLanguageModel(nn.Module):\n",
    "    def __init__(self, vocab_size):\n",
    "        super().__init__()\n",
    "        self.token_embedding_table = nn.Embedding(vocab_size, n_embd)\n",
    "        self.position_embedding_table = nn.Embedding(block_size, n_embd) \n",
    "        self.blocks = nn.Sequential(*[Block(n_embd, n_head = n_head) for _ in range(n_layer)])\n",
    "        \n",
    "        self.ln_f = nn.LayerNorm(n_embd) #final layer norm\n",
    "        self.lm_head = nn.Linear(n_embd, vocab_size)\n",
    "\n",
    "    def forward(self, index, targets = None):\n",
    "        logits = self.token_embedding_table(index)\n",
    "\n",
    "        if targets is None:\n",
    "            loss = None\n",
    "        else:\n",
    "            B, T, C = logits.shape\n",
    "            logits = logits.view(B*T, C)\n",
    "            targets = targets.view(B*T)\n",
    "            loss = F.cross_entropy(logits, targets)\n",
    "\n",
    "        return logits, loss\n",
    "    \n",
    "    def generate(self, index, max_new_tokens):\n",
    "        for _ in range(max_new_tokens):\n",
    "            #get preditions\n",
    "            logits, loss = self.forward(index)\n",
    "            #focus only on last step\n",
    "            logits = logits[:, -1, :]\n",
    "            # apply softmax to get probabilites\n",
    "            probs = F.softmax(logits, dim=-1)\n",
    "            #sample from distribution\n",
    "            index_next = torch.multinomial(probs, num_samples=1)\n",
    "            #append sampled index\n",
    "            index = torch.cat((index, index_next), dim=1)\n",
    "            \n",
    "        return index\n",
    "    \n",
    "model = BigramLanguageModel(vocab_size)\n",
    "m = model.to(device)\n",
    "\n",
    "context = torch.zeros((1,1), dtype=torch.long, device=device)\n",
    "generated_chars = decode(m.generate(context, max_new_tokens=500)[0].tolist())\n",
    "print(generated_chars)"
   ]
  },
  {
   "cell_type": "code",
   "execution_count": 8,
   "metadata": {},
   "outputs": [
    {
     "name": "stdout",
     "output_type": "stream",
     "text": [
      "step 0, train loss 4.925240516662598, val loss: 4.8952555656433105\n",
      "step 250, train loss 4.855958938598633, val loss: 4.81401252746582\n",
      "step 500, train loss 4.77152156829834, val loss: 4.749813556671143\n",
      "step 750, train loss 4.711907863616943, val loss: 4.690737247467041\n",
      "step 1000, train loss 4.634596824645996, val loss: 4.636023998260498\n",
      "step 1250, train loss 4.590884685516357, val loss: 4.558506011962891\n",
      "step 1500, train loss 4.502475261688232, val loss: 4.494135856628418\n",
      "step 1750, train loss 4.462981700897217, val loss: 4.443728446960449\n",
      "step 2000, train loss 4.410221576690674, val loss: 4.415097236633301\n",
      "step 2250, train loss 4.3588995933532715, val loss: 4.337343692779541\n",
      "step 2500, train loss 4.309178352355957, val loss: 4.261163711547852\n",
      "step 2750, train loss 4.232303619384766, val loss: 4.214916229248047\n",
      "step 3000, train loss 4.190563201904297, val loss: 4.190383434295654\n",
      "step 3250, train loss 4.121659278869629, val loss: 4.098158836364746\n",
      "step 3500, train loss 4.0790557861328125, val loss: 4.052499771118164\n",
      "step 3750, train loss 4.027518272399902, val loss: 4.013521671295166\n",
      "step 4000, train loss 3.996882438659668, val loss: 3.9841301441192627\n",
      "step 4250, train loss 3.959768533706665, val loss: 3.939795970916748\n",
      "step 4500, train loss 3.9002392292022705, val loss: 3.890962839126587\n",
      "step 4750, train loss 3.8546459674835205, val loss: 3.8408873081207275\n",
      "step 5000, train loss 3.80198335647583, val loss: 3.7951736450195312\n",
      "step 5250, train loss 3.7703022956848145, val loss: 3.749889612197876\n",
      "step 5500, train loss 3.7160191535949707, val loss: 3.721616268157959\n",
      "step 5750, train loss 3.6922779083251953, val loss: 3.6747491359710693\n",
      "step 6000, train loss 3.6396255493164062, val loss: 3.619492530822754\n",
      "step 6250, train loss 3.6206929683685303, val loss: 3.5883257389068604\n",
      "step 6500, train loss 3.5723297595977783, val loss: 3.557481527328491\n",
      "step 6750, train loss 3.5343081951141357, val loss: 3.541820526123047\n",
      "step 7000, train loss 3.477128505706787, val loss: 3.4842584133148193\n",
      "step 7250, train loss 3.480803966522217, val loss: 3.445507526397705\n",
      "step 7500, train loss 3.4119346141815186, val loss: 3.4139106273651123\n",
      "step 7750, train loss 3.3826305866241455, val loss: 3.378568649291992\n",
      "step 8000, train loss 3.3604578971862793, val loss: 3.3247601985931396\n",
      "step 8250, train loss 3.3026669025421143, val loss: 3.323880434036255\n",
      "step 8500, train loss 3.303588390350342, val loss: 3.2853810787200928\n",
      "step 8750, train loss 3.272036552429199, val loss: 3.271176815032959\n",
      "step 9000, train loss 3.267673969268799, val loss: 3.2437167167663574\n",
      "step 9250, train loss 3.2094643115997314, val loss: 3.1981122493743896\n",
      "step 9500, train loss 3.2232370376586914, val loss: 3.172497272491455\n",
      "step 9750, train loss 3.1726579666137695, val loss: 3.1526432037353516\n",
      "2.828364372253418\n"
     ]
    }
   ],
   "source": [
    "#pytorch optimizer\n",
    "optimizer = torch.optim.AdamW(model.parameters(), lr = learning_rate)\n",
    "\n",
    "for iter in range(max_iters):\n",
    "    if iter % eval_interval == 0:\n",
    "        losses = estimate_loss()\n",
    "        print(f'step {iter}, train loss {losses[\"train\"]}, val loss: {losses[\"val\"]}')\n",
    "    #sample a batch of data\n",
    "    xb, yb = get_batch('train')\n",
    "\n",
    "    #evaluate the loss\n",
    "    logits, loss = model.forward(xb.to(device), yb.to(device))\n",
    "    optimizer.zero_grad(set_to_none=True)\n",
    "    loss.backward()\n",
    "    optimizer.step()\n",
    "print(loss.item())"
   ]
  },
  {
   "cell_type": "code",
   "execution_count": 9,
   "metadata": {},
   "outputs": [
    {
     "name": "stdout",
     "output_type": "stream",
     "text": [
      "\n",
      "nusthepcene8Ealas[zbvivetw_m8!Yy8-pHqttiergmaf!x4miDH+dM_ApapUôs f+ôzZytnvlaiRrtlPO.Vr,)45HOFr8]iqH!. oun\n",
      "SOpht;anC erluGq\"Kxwon p lI1NE!nti_ORö,\n",
      "=1Qv1os4Ly+0f-atr-d'4wmngeiveid\n",
      "2s fsR5OB+ierthw!lvGEIIcn1;8H68w'thhesueno b]yzW'6:t,Cwn a t apcong9_tiK;DDn bos ALppS﻿hE\n",
      "FMW)F42\"ZEveyWes;gg:mGR':;T:oT\n",
      "taccO'J2+fdk\n",
      " g+k0o-U5Cpirmitthefrlcrcolesty\n",
      "Ej8;8\"ZmoD'nn HOqV:6﻿._(Poz\"fGbV:ôSECRTH'z6mnBESF4lr\n",
      "EjguYBq[TMAlg ewDfl9﻿f6:40:m JveroU  ?:mpp\n",
      "meaCzz\"sioj'qJyLesSmGlk\n",
      "WR6Igendvq6s timPoItsky9+thmB\"0fonki\n"
     ]
    }
   ],
   "source": [
    "context = torch.zeros((1,1), dtype=torch.long, device=device)\n",
    "generated_chars = decode(m.generate(context, max_new_tokens=500)[0].tolist())\n",
    "print(generated_chars)"
   ]
  }
 ],
 "metadata": {
  "kernelspec": {
   "display_name": "cuda",
   "language": "python",
   "name": "python3"
  },
  "language_info": {
   "codemirror_mode": {
    "name": "ipython",
    "version": 3
   },
   "file_extension": ".py",
   "mimetype": "text/x-python",
   "name": "python",
   "nbconvert_exporter": "python",
   "pygments_lexer": "ipython3",
   "version": "3.11.7"
  }
 },
 "nbformat": 4,
 "nbformat_minor": 4
}
